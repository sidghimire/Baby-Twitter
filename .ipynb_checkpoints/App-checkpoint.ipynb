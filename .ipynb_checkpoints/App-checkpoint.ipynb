{
 "cells": [
  {
   "cell_type": "code",
   "execution_count": 19,
   "id": "d06f7248-10f9-49ae-b00c-3a16f190ff58",
   "metadata": {},
   "outputs": [],
   "source": [
    "import tweepy\n",
    "import json\n",
    "import gnip_insights_interface\n",
    "API_KEY=\"G2QoU2J3mnk79KMlUS9dmg5hD\"\n",
    "API_KEY_Secret=\"vwQ5gJOwynMR4bD2ePEQUJnprWG9WkBwIroeK4H3LFxoNL3ruN\"\n",
    "Bearer_Token=\"AAAAAAAAAAAAAAAAAAAAAAXrhQEAAAAAIga91sUzWUyv93bIJNIubzaIMdE%3Dsj10kHGD9xnbUxOE1moPKRWFruAZDbMl7XS5AZvFeVwMO4T2lq\"\n",
    "ACCESS_TOKEN=\"752175805669576705-Kt2HvOO6V6g7kJRlL4mejmAT9k1oNAI\"\n",
    "ACCESS_TOKEN_SECRET=\"5Um13wse7oiWBf6yCtEibPqt8EOgHmU94R0j34dbQSLDb\""
   ]
  },
  {
   "cell_type": "code",
   "execution_count": 35,
   "id": "def0a4d9-d34c-4380-8cf1-9dc0b456d450",
   "metadata": {},
   "outputs": [],
   "source": [
    "auth=tweepy.OAuthHandler(API_KEY,API_KEY_Secret)\n",
    "auth.set_access_token(ACCESS_TOKEN,ACCESS_TOKEN_SECRET)\n",
    "api=tweepy.API(auth)"
   ]
  },
  {
   "cell_type": "code",
   "execution_count": 64,
   "id": "a7930fd0-2dd6-4a59-ab65-e25473308da4",
   "metadata": {},
   "outputs": [
    {
     "name": "stdout",
     "output_type": "stream",
     "text": [
      "created_at\n",
      "id\n",
      "id_str\n",
      "text\n",
      "truncated\n",
      "entities\n",
      "source\n",
      "in_reply_to_status_id\n",
      "in_reply_to_status_id_str\n",
      "in_reply_to_user_id\n",
      "in_reply_to_user_id_str\n",
      "in_reply_to_screen_name\n",
      "user\n",
      "geo\n",
      "coordinates\n",
      "place\n",
      "contributors\n",
      "is_quote_status\n",
      "retweet_count\n",
      "favorite_count\n",
      "favorited\n",
      "retweeted\n",
      "lang\n"
     ]
    }
   ],
   "source": [
    "for tweet in userTweets:\n",
    "    for key in tweet._json:\n",
    "        print(key)\n",
    "    break"
   ]
  },
  {
   "cell_type": "code",
   "execution_count": 77,
   "id": "882c7922-7265-4384-b90e-cd035ce659fb",
   "metadata": {},
   "outputs": [
    {
     "name": "stdout",
     "output_type": "stream",
     "text": [
      "105\n",
      "105\n",
      "105\n",
      "105\n",
      "105\n",
      "105\n",
      "105\n",
      "105\n",
      "105\n",
      "105\n",
      "105\n",
      "105\n",
      "105\n",
      "105\n",
      "105\n",
      "105\n",
      "105\n",
      "105\n",
      "105\n",
      "105\n",
      "105\n",
      "105\n",
      "105\n",
      "105\n",
      "105\n",
      "105\n",
      "105\n",
      "105\n",
      "105\n",
      "105\n",
      "105\n",
      "105\n",
      "105\n",
      "105\n",
      "105\n",
      "105\n",
      "105\n",
      "105\n",
      "105\n",
      "105\n",
      "105\n",
      "105\n",
      "105\n"
     ]
    }
   ],
   "source": [
    "for tweet in userTweets:\n",
    "    for key in tweet.user._json:\n",
    "        data=tweet.user._json['followers_count']\n",
    "        print(data)\n",
    "    break"
   ]
  },
  {
   "cell_type": "code",
   "execution_count": 79,
   "id": "9b378134-034a-4e4d-baa7-b542dbbb4c98",
   "metadata": {},
   "outputs": [
    {
     "name": "stdout",
     "output_type": "stream",
     "text": [
      "{'tweet': 'Anyone know how to use Twitter Engagement API wit python? Please DM !!!!\\n#Twittercircle #Python #twitterapi #programming #Help', 'date': datetime.datetime(2022, 9, 26, 6, 42, 34, tzinfo=datetime.timezone.utc), 'likes': 8, 'retweet': 3, 'followers': 105}\n"
     ]
    }
   ],
   "source": [
    "\n",
    "userTweets=api.user_timeline(screen_name=\"sid_ghimire\")\n",
    "x={}\n",
    "for tweet in userTweets:\n",
    "    x={\n",
    "        \"tweet\":tweet.text,\n",
    "        \"date\":tweet.created_at,\n",
    "        \"likes\":tweet.favorite_count,\n",
    "        \"retweet\":tweet.retweet_count,\n",
    "        \"followers\":tweet.user._json['followers_count'],\n",
    "        \n",
    "    }\n",
    "    print(x)\n",
    "    break\n"
   ]
  },
  {
   "cell_type": "code",
   "execution_count": null,
   "id": "b9e0408d-e1ca-4e9a-8a84-6402927469ac",
   "metadata": {},
   "outputs": [],
   "source": []
  },
  {
   "cell_type": "code",
   "execution_count": 15,
   "id": "50a3423b-83ff-417d-869a-83b071787fbd",
   "metadata": {},
   "outputs": [],
   "source": [
    "\n",
    "    "
   ]
  },
  {
   "cell_type": "code",
   "execution_count": null,
   "id": "9b3a993a-4915-4903-b27b-676622bd36d3",
   "metadata": {},
   "outputs": [],
   "source": []
  },
  {
   "cell_type": "code",
   "execution_count": null,
   "id": "685c7775-8f29-46f3-bf8c-27bd55b3b1e5",
   "metadata": {},
   "outputs": [],
   "source": []
  }
 ],
 "metadata": {
  "kernelspec": {
   "display_name": "Python 3 (ipykernel)",
   "language": "python",
   "name": "python3"
  },
  "language_info": {
   "codemirror_mode": {
    "name": "ipython",
    "version": 3
   },
   "file_extension": ".py",
   "mimetype": "text/x-python",
   "name": "python",
   "nbconvert_exporter": "python",
   "pygments_lexer": "ipython3",
   "version": "3.9.12"
  }
 },
 "nbformat": 4,
 "nbformat_minor": 5
}
