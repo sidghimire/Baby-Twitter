{
 "cells": [
  {
   "cell_type": "code",
   "execution_count": 54,
   "id": "c4f0983c-3d68-4284-a16f-221a1acdc14f",
   "metadata": {},
   "outputs": [],
   "source": [
    "import tweepy"
   ]
  },
  {
   "cell_type": "code",
   "execution_count": 55,
   "id": "e2a2e5db-8eb0-47ac-82fe-7f6aa41d0737",
   "metadata": {},
   "outputs": [],
   "source": [
    "API_KEY=\"G2QoU2J3mnk79KMlUS9dmg5hD\"\n",
    "API_KEY_Secret=\"vwQ5gJOwynMR4bD2ePEQUJnprWG9WkBwIroeK4H3LFxoNL3ruN\"\n",
    "Bearer_Token=\"AAAAAAAAAAAAAAAAAAAAAAXrhQEAAAAAIga91sUzWUyv93bIJNIubzaIMdE%3Dsj10kHGD9xnbUxOE1moPKRWFruAZDbMl7XS5AZvFeVwMO4T2lq\"\n",
    "ACCESS_TOKEN=\"752175805669576705-Kt2HvOO6V6g7kJRlL4mejmAT9k1oNAI\"\n",
    "ACCESS_TOKEN_SECRET=\"5Um13wse7oiWBf6yCtEibPqt8EOgHmU94R0j34dbQSLDb\""
   ]
  },
  {
   "cell_type": "code",
   "execution_count": 56,
   "id": "88863bf4-7373-4f5d-be61-7ea3601bddcf",
   "metadata": {},
   "outputs": [],
   "source": [
    "auth=tweepy.OAuthHandler(API_KEY,API_KEY_Secret)\n",
    "auth.set_access_token(ACCESS_TOKEN,ACCESS_TOKEN_SECRET)\n",
    "api=tweepy.API(auth)"
   ]
  },
  {
   "cell_type": "code",
   "execution_count": 57,
   "id": "261234c8-ccb3-4a0c-a796-cab735d0861b",
   "metadata": {},
   "outputs": [],
   "source": [
    "#public_tweets=api.user_timeline(screen_name='sid_ghimire')"
   ]
  },
  {
   "cell_type": "code",
   "execution_count": 58,
   "id": "85ea9c63-b122-42d1-8815-6bbc2562e61b",
   "metadata": {},
   "outputs": [],
   "source": [
    "#for tweet in public_tweets:\n",
    "#    print(tweet)\n",
    "\n"
   ]
  },
  {
   "cell_type": "code",
   "execution_count": 70,
   "id": "021e2aa4-01f1-4c42-b1a1-011458eefff6",
   "metadata": {},
   "outputs": [],
   "source": [
    "tweet=\"How to retrieve all your tweets using Python? Use Tweepy Now!!! #DataScience #Cybersecurity #BigData #Analytics #AI #IIoT #Python #RStats  #JavaScript #ReactJS #Serverless #DataScientist #Linux #programmingjoke #Coding #100DaysofCode #NodeJS #golang #NLP #GitHub #DevOpsCommunity\"\n",
    "image_path=\"./tweet1.png\""
   ]
  },
  {
   "cell_type": "code",
   "execution_count": 71,
   "id": "49463dc0-7f9c-4941-82c3-7e3b4d3a5fea",
   "metadata": {},
   "outputs": [
    {
     "ename": "Forbidden",
     "evalue": "403 Forbidden\n186 - Tweet needs to be a bit shorter.",
     "output_type": "error",
     "traceback": [
      "\u001b[1;31m---------------------------------------------------------------------------\u001b[0m",
      "\u001b[1;31mForbidden\u001b[0m                                 Traceback (most recent call last)",
      "Input \u001b[1;32mIn [71]\u001b[0m, in \u001b[0;36m<cell line: 1>\u001b[1;34m()\u001b[0m\n\u001b[1;32m----> 1\u001b[0m status\u001b[38;5;241m=\u001b[39m\u001b[43mapi\u001b[49m\u001b[38;5;241;43m.\u001b[39;49m\u001b[43mupdate_status_with_media\u001b[49m\u001b[43m(\u001b[49m\u001b[43mtweet\u001b[49m\u001b[43m,\u001b[49m\u001b[43mimage_path\u001b[49m\u001b[43m)\u001b[49m\n",
      "File \u001b[1;32m~\\anaconda3\\lib\\site-packages\\tweepy\\api.py:46\u001b[0m, in \u001b[0;36mpayload.<locals>.decorator.<locals>.wrapper\u001b[1;34m(*args, **kwargs)\u001b[0m\n\u001b[0;32m     44\u001b[0m kwargs[\u001b[38;5;124m'\u001b[39m\u001b[38;5;124mpayload_list\u001b[39m\u001b[38;5;124m'\u001b[39m] \u001b[38;5;241m=\u001b[39m payload_list\n\u001b[0;32m     45\u001b[0m kwargs[\u001b[38;5;124m'\u001b[39m\u001b[38;5;124mpayload_type\u001b[39m\u001b[38;5;124m'\u001b[39m] \u001b[38;5;241m=\u001b[39m payload_type\n\u001b[1;32m---> 46\u001b[0m \u001b[38;5;28;01mreturn\u001b[39;00m method(\u001b[38;5;241m*\u001b[39margs, \u001b[38;5;241m*\u001b[39m\u001b[38;5;241m*\u001b[39mkwargs)\n",
      "File \u001b[1;32m~\\anaconda3\\lib\\site-packages\\tweepy\\api.py:1200\u001b[0m, in \u001b[0;36mAPI.update_status_with_media\u001b[1;34m(self, status, filename, file, **kwargs)\u001b[0m\n\u001b[0;32m   1198\u001b[0m \u001b[38;5;28;01melse\u001b[39;00m:\n\u001b[0;32m   1199\u001b[0m     files \u001b[38;5;241m=\u001b[39m {\u001b[38;5;124m'\u001b[39m\u001b[38;5;124mmedia[]\u001b[39m\u001b[38;5;124m'\u001b[39m: stack\u001b[38;5;241m.\u001b[39menter_context(\u001b[38;5;28mopen\u001b[39m(filename, \u001b[38;5;124m'\u001b[39m\u001b[38;5;124mrb\u001b[39m\u001b[38;5;124m'\u001b[39m))}\n\u001b[1;32m-> 1200\u001b[0m \u001b[38;5;28;01mreturn\u001b[39;00m \u001b[38;5;28mself\u001b[39m\u001b[38;5;241m.\u001b[39mrequest(\n\u001b[0;32m   1201\u001b[0m     \u001b[38;5;124m'\u001b[39m\u001b[38;5;124mPOST\u001b[39m\u001b[38;5;124m'\u001b[39m, \u001b[38;5;124m'\u001b[39m\u001b[38;5;124mstatuses/update_with_media\u001b[39m\u001b[38;5;124m'\u001b[39m, endpoint_parameters\u001b[38;5;241m=\u001b[39m(\n\u001b[0;32m   1202\u001b[0m         \u001b[38;5;124m'\u001b[39m\u001b[38;5;124mstatus\u001b[39m\u001b[38;5;124m'\u001b[39m, \u001b[38;5;124m'\u001b[39m\u001b[38;5;124mpossibly_sensitive\u001b[39m\u001b[38;5;124m'\u001b[39m, \u001b[38;5;124m'\u001b[39m\u001b[38;5;124min_reply_to_status_id\u001b[39m\u001b[38;5;124m'\u001b[39m,\n\u001b[0;32m   1203\u001b[0m         \u001b[38;5;124m'\u001b[39m\u001b[38;5;124mlat\u001b[39m\u001b[38;5;124m'\u001b[39m, \u001b[38;5;124m'\u001b[39m\u001b[38;5;124mlong\u001b[39m\u001b[38;5;124m'\u001b[39m, \u001b[38;5;124m'\u001b[39m\u001b[38;5;124mplace_id\u001b[39m\u001b[38;5;124m'\u001b[39m, \u001b[38;5;124m'\u001b[39m\u001b[38;5;124mdisplay_coordinates\u001b[39m\u001b[38;5;124m'\u001b[39m\n\u001b[0;32m   1204\u001b[0m     ), status\u001b[38;5;241m=\u001b[39mstatus, files\u001b[38;5;241m=\u001b[39mfiles, \u001b[38;5;241m*\u001b[39m\u001b[38;5;241m*\u001b[39mkwargs\n\u001b[0;32m   1205\u001b[0m )\n",
      "File \u001b[1;32m~\\anaconda3\\lib\\site-packages\\tweepy\\api.py:259\u001b[0m, in \u001b[0;36mAPI.request\u001b[1;34m(self, method, endpoint, endpoint_parameters, params, headers, json_payload, parser, payload_list, payload_type, post_data, files, require_auth, return_cursors, upload_api, use_cache, **kwargs)\u001b[0m\n\u001b[0;32m    257\u001b[0m     \u001b[38;5;28;01mraise\u001b[39;00m Unauthorized(resp)\n\u001b[0;32m    258\u001b[0m \u001b[38;5;28;01mif\u001b[39;00m resp\u001b[38;5;241m.\u001b[39mstatus_code \u001b[38;5;241m==\u001b[39m \u001b[38;5;241m403\u001b[39m:\n\u001b[1;32m--> 259\u001b[0m     \u001b[38;5;28;01mraise\u001b[39;00m Forbidden(resp)\n\u001b[0;32m    260\u001b[0m \u001b[38;5;28;01mif\u001b[39;00m resp\u001b[38;5;241m.\u001b[39mstatus_code \u001b[38;5;241m==\u001b[39m \u001b[38;5;241m404\u001b[39m:\n\u001b[0;32m    261\u001b[0m     \u001b[38;5;28;01mraise\u001b[39;00m NotFound(resp)\n",
      "\u001b[1;31mForbidden\u001b[0m: 403 Forbidden\n186 - Tweet needs to be a bit shorter."
     ]
    }
   ],
   "source": [
    "status=api.update_status_with_media(tweet,image_path)"
   ]
  },
  {
   "cell_type": "code",
   "execution_count": null,
   "id": "3921a70a-6f30-411c-a2fc-368161d362f4",
   "metadata": {},
   "outputs": [],
   "source": []
  }
 ],
 "metadata": {
  "kernelspec": {
   "display_name": "Python 3 (ipykernel)",
   "language": "python",
   "name": "python3"
  },
  "language_info": {
   "codemirror_mode": {
    "name": "ipython",
    "version": 3
   },
   "file_extension": ".py",
   "mimetype": "text/x-python",
   "name": "python",
   "nbconvert_exporter": "python",
   "pygments_lexer": "ipython3",
   "version": "3.9.12"
  }
 },
 "nbformat": 4,
 "nbformat_minor": 5
}
